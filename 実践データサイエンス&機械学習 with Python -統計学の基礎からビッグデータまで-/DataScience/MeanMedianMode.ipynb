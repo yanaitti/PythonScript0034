{
 "cells": [
  {
   "cell_type": "markdown",
   "metadata": {},
   "source": [
    "# 平均値、中央値、モード、およびNumpyの導入"
   ]
  },
  {
   "cell_type": "markdown",
   "metadata": {},
   "source": [
    "## 平均値 vs. 中央値"
   ]
  },
  {
   "cell_type": "markdown",
   "metadata": {},
   "source": [
    "疑似的な収入分布を作りましょう。27000を中央にした正規分布で、標準偏差は15000、データ数は10000とします。（用語については後程解説します。）\n",
    "そして、平均値を計算してみましょう。27000に近くなるはずです。"
   ]
  },
  {
   "cell_type": "code",
   "execution_count": 4,
   "metadata": {
    "collapsed": false
   },
   "outputs": [
    {
     "data": {
      "text/plain": [
       "27056.121571178603"
      ]
     },
     "execution_count": 4,
     "metadata": {},
     "output_type": "execute_result"
    }
   ],
   "source": [
    "import numpy as np\n",
    "\n",
    "incomes = np.random.normal(27000, 15000, 10000)\n",
    "np.mean(incomes)"
   ]
  },
  {
   "cell_type": "markdown",
   "metadata": {},
   "source": [
    "収入データを50個にセグメント化し、ヒストグラムにプロットすることもできます。"
   ]
  },
  {
   "cell_type": "code",
   "execution_count": 5,
   "metadata": {
    "collapsed": false
   },
   "outputs": [
    {
     "data": {
      "image/png": "[encoded data removed]",
      "text/plain": [
       "<matplotlib.figure.Figure at 0x41070b8>"
      ]
     },
     "metadata": {},
     "output_type": "display_data"
    }
   ],
   "source": [
    "%matplotlib inline\n",
    "import matplotlib.pyplot as plt\n",
    "plt.hist(incomes, 50)\n",
    "plt.show()"
   ]
  },
  {
   "cell_type": "markdown",
   "metadata": {},
   "source": [
    "中央値を計算してみましょう。今回はきれいな分布をしているため、中央値は平均値と同様に27000に近くなります。"
   ]
  },
  {
   "cell_type": "code",
   "execution_count": 3,
   "metadata": {
    "collapsed": false
   },
   "outputs": [
    {
     "data": {
      "text/plain": [
       "26995.294638013209"
      ]
     },
     "execution_count": 3,
     "metadata": {},
     "output_type": "execute_result"
    }
   ],
   "source": [
    "np.median(incomes)"
   ]
  },
  {
   "cell_type": "markdown",
   "metadata": {},
   "source": [
    "大富豪をデータに混ぜてみましょう。所得格差を実感してみましょう。"
   ]
  },
  {
   "cell_type": "code",
   "execution_count": 4,
   "metadata": {
    "collapsed": false
   },
   "outputs": [],
   "source": [
    "incomes = np.append(incomes, [1000000000])"
   ]
  },
  {
   "cell_type": "markdown",
   "metadata": {},
   "source": [
    "中央値は大きく変わりませんが、平均値は大きく変わります。"
   ]
  },
  {
   "cell_type": "code",
   "execution_count": 5,
   "metadata": {
    "collapsed": false
   },
   "outputs": [
    {
     "data": {
      "text/plain": [
       "27163.131505581998"
      ]
     },
     "execution_count": 5,
     "metadata": {},
     "output_type": "execute_result"
    }
   ],
   "source": [
    "np.median(incomes)"
   ]
  },
  {
   "cell_type": "code",
   "execution_count": 6,
   "metadata": {
    "collapsed": false
   },
   "outputs": [
    {
     "data": {
      "text/plain": [
       "127160.38252311043"
      ]
     },
     "execution_count": 6,
     "metadata": {},
     "output_type": "execute_result"
    }
   ],
   "source": [
    "np.mean(incomes)"
   ]
  },
  {
   "cell_type": "markdown",
   "metadata": {},
   "source": [
    "## モード"
   ]
  },
  {
   "cell_type": "markdown",
   "metadata": {},
   "source": [
    "次に、疑似的な年齢のデータを500人分作りましょう。"
   ]
  },
  {
   "cell_type": "code",
   "execution_count": 6,
   "metadata": {
    "collapsed": false
   },
   "outputs": [
    {
     "data": {
      "text/plain": [
       "array([69, 54, 48, 60, 36, 60, 21, 26, 53, 68, 63, 31, 62, 22, 89, 60, 27,\n",
       "       72, 25, 74, 54, 21, 19, 45, 35, 69, 53, 18, 62, 31, 87, 68, 48, 31,\n",
       "       18, 47, 65, 69, 72, 43, 50, 27, 50, 64, 34, 76, 23, 43, 21, 25, 71,\n",
       "       52, 60, 49, 47, 75, 52, 55, 87, 53, 41, 22, 65, 75, 89, 85, 60, 52,\n",
       "       67, 49, 53, 43, 68, 20, 21, 71, 62, 56, 64, 80, 35, 41, 18, 63, 83,\n",
       "       21, 50, 44, 34, 63, 28, 72, 50, 65, 31, 40, 61, 27, 65, 43, 74, 47,\n",
       "       35, 89, 34, 75, 89, 81, 29, 65, 85, 53, 21, 53, 64, 62, 87, 42, 50,\n",
       "       38, 88, 51, 53, 29, 64, 32, 72, 72, 61, 63, 77, 40, 23, 43, 89, 52,\n",
       "       77, 32, 64, 27, 60, 49, 86, 21, 82, 42, 76, 70, 86, 76, 46, 83, 88,\n",
       "       18, 67, 68, 83, 45, 59, 29, 45, 60, 21, 80, 56, 69, 50, 23, 22, 31,\n",
       "       86, 52, 54, 89, 64, 43, 67, 67, 56, 71, 57, 86, 29, 73, 18, 79, 23,\n",
       "       47, 85, 70, 60, 48, 42, 36, 69, 56, 65, 36, 55, 26, 29, 28, 53, 55,\n",
       "       21, 20, 75, 71, 86, 64, 22, 50, 59, 63, 79, 72, 47, 18, 60, 51, 67,\n",
       "       45, 58, 81, 63, 62, 42, 75, 82, 72, 22, 76, 43, 75, 89, 36, 27, 60,\n",
       "       47, 77, 52, 42, 19, 82, 64, 35, 41, 48, 79, 30, 75, 83, 32, 43, 44,\n",
       "       43, 41, 29, 61, 45, 66, 28, 73, 77, 61, 70, 61, 78, 73, 33, 80, 89,\n",
       "       72, 44, 25, 28, 60, 31, 32, 25, 52, 72, 56, 27, 23, 55, 27, 22, 58,\n",
       "       28, 49, 25, 43, 88, 40, 30, 23, 31, 71, 35, 72, 82, 42, 84, 71, 71,\n",
       "       43, 26, 59, 55, 50, 82, 72, 66, 85, 79, 60, 87, 76, 33, 35, 63, 81,\n",
       "       60, 83, 65, 79, 26, 41, 36, 78, 28, 20, 61, 29, 24, 80, 41, 78, 34,\n",
       "       75, 56, 32, 89, 87, 74, 18, 84, 86, 28, 68, 37, 68, 77, 39, 35, 72,\n",
       "       32, 36, 60, 49, 54, 72, 47, 28, 87, 64, 42, 55, 50, 28, 69, 58, 51,\n",
       "       50, 64, 18, 50, 47, 67, 66, 71, 83, 25, 79, 87, 73, 22, 27, 44, 62,\n",
       "       70, 27, 44, 74, 49, 39, 79, 28, 73, 61, 65, 21, 73, 34, 79, 35, 84,\n",
       "       84, 61, 61, 77, 44, 25, 28, 76, 48, 52, 41, 26, 53, 65, 24, 47, 29,\n",
       "       24, 82, 82, 48, 43, 41, 69, 36, 60, 76, 75, 27, 41, 62, 53, 42, 89,\n",
       "       51, 53, 54, 77, 38, 53, 47, 65, 21, 51, 59, 72, 25, 50, 52, 71, 25,\n",
       "       80, 45, 49, 50, 89, 50, 45, 87, 60, 19, 20, 68, 56, 47, 79, 41, 27,\n",
       "       48, 69, 42, 32, 46, 44, 30, 58, 53, 54, 48, 31, 63, 63, 89, 47, 82,\n",
       "       45, 32, 78, 28, 57, 33, 34])"
      ]
     },
     "execution_count": 6,
     "metadata": {},
     "output_type": "execute_result"
    }
   ],
   "source": [
    "ages = np.random.randint(18, high=90, size=500)\n",
    "ages"
   ]
  },
  {
   "cell_type": "code",
   "execution_count": 7,
   "metadata": {
    "collapsed": false
   },
   "outputs": [
    {
     "data": {
      "text/plain": [
       "ModeResult(mode=array([60]), count=array([16]))"
      ]
     },
     "execution_count": 7,
     "metadata": {},
     "output_type": "execute_result"
    }
   ],
   "source": [
    "from scipy import stats\n",
    "stats.mode(ages)"
   ]
  },
  {
   "cell_type": "code",
   "execution_count": null,
   "metadata": {
    "collapsed": false
   },
   "outputs": [],
   "source": []
  }
 ],
 "metadata": {
  "kernelspec": {
   "display_name": "Python 2",
   "language": "python",
   "name": "python2"
  },
  "language_info": {
   "codemirror_mode": {
    "name": "ipython",
    "version": 2
   },
   "file_extension": ".py",
   "mimetype": "text/x-python",
   "name": "python",
   "nbconvert_exporter": "python",
   "pygments_lexer": "ipython2",
   "version": "2.7.11"
  }
 },
 "nbformat": 4,
 "nbformat_minor": 0
}
