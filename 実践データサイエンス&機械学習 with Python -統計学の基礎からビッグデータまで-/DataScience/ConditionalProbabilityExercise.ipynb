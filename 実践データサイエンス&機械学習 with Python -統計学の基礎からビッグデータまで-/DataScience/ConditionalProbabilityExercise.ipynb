{
 "cells": [
  {
   "cell_type": "markdown",
   "metadata": {},
   "source": [
    "# 条件付確率 アクティビティ＆演習"
   ]
  },
  {
   "cell_type": "markdown",
   "metadata": {},
   "source": [
    "以下は、各年齢の範囲においてどれだけ商品を購入するかを示すフェイクのデータを生成するコードです。\n",
    "\n",
    "100,000人を作り、ランダムに10代、20台、30代、40代、50代、60代、70代と年齢範囲を振っていきます。\n",
    "\n",
    "若い人には購入確率を低く設定します。\n",
    "\n",
    "最後には、２つのPythonのディクショナリを得ます。\n",
    "\n",
    "\"totals\" は各年齢範囲に属する人数、\"purchases\"は各年齢範囲の人々が購入した商品の数を含むディクショナリです。 \n",
    "totalPurchases は総購入数です。そして、総人数は100,000人ですね。\n",
    "\n",
    "コードを走らせて、結果を見てみましょう。"
   ]
  },
  {
   "cell_type": "code",
   "execution_count": 1,
   "metadata": {
    "collapsed": false
   },
   "outputs": [],
   "source": [
    "from numpy import random\n",
    "random.seed(0)\n",
    "\n",
    "totals = {20:0, 30:0, 40:0, 50:0, 60:0, 70:0}\n",
    "purchases = {20:0, 30:0, 40:0, 50:0, 60:0, 70:0}\n",
    "totalPurchases = 0\n",
    "for _ in range(100000):\n",
    "    ageDecade = random.choice([20, 30, 40, 50, 60, 70])\n",
    "    purchaseProbability = float(ageDecade) / 100.0\n",
    "    totals[ageDecade] += 1\n",
    "    if (random.random() < purchaseProbability):\n",
    "        totalPurchases += 1\n",
    "        purchases[ageDecade] += 1"
   ]
  },
  {
   "cell_type": "code",
   "execution_count": 2,
   "metadata": {
    "collapsed": false
   },
   "outputs": [
    {
     "data": {
      "text/plain": [
       "{20: 16576, 30: 16619, 40: 16632, 50: 16805, 60: 16664, 70: 16704}"
      ]
     },
     "execution_count": 2,
     "metadata": {},
     "output_type": "execute_result"
    }
   ],
   "source": [
    "totals"
   ]
  },
  {
   "cell_type": "code",
   "execution_count": 3,
   "metadata": {
    "collapsed": false
   },
   "outputs": [
    {
     "data": {
      "text/plain": [
       "{20: 3392, 30: 4974, 40: 6670, 50: 8319, 60: 9944, 70: 11713}"
      ]
     },
     "execution_count": 3,
     "metadata": {},
     "output_type": "execute_result"
    }
   ],
   "source": [
    "purchases"
   ]
  },
  {
   "cell_type": "code",
   "execution_count": 4,
   "metadata": {
    "collapsed": false
   },
   "outputs": [
    {
     "data": {
      "text/plain": [
       "45012"
      ]
     },
     "execution_count": 4,
     "metadata": {},
     "output_type": "execute_result"
    }
   ],
   "source": [
    "totalPurchases"
   ]
  },
  {
   "cell_type": "markdown",
   "metadata": {},
   "source": [
    "条件付確率で遊びましょう。\n",
    "\n",
    "最初に、P(E|F)を計算しましょう。Eは購入すること、Fは30代であることとします。 30代の人が商品を購入する確率は、購入数を人数で割ることで求めます。"
   ]
  },
  {
   "cell_type": "code",
   "execution_count": 5,
   "metadata": {
    "collapsed": false
   },
   "outputs": [
    {
     "name": "stdout",
     "output_type": "stream",
     "text": [
      "P(purchase | 30s):  0.299295986521\n"
     ]
    }
   ],
   "source": [
    "PEF = float(purchases[30]) / float(totals[30])\n",
    "print \"P(purchase | 30s): \", PEF"
   ]
  },
  {
   "cell_type": "markdown",
   "metadata": {},
   "source": [
    "P(F)は30代である確率です。 "
   ]
  },
  {
   "cell_type": "code",
   "execution_count": 6,
   "metadata": {
    "collapsed": false
   },
   "outputs": [
    {
     "name": "stdout",
     "output_type": "stream",
     "text": [
      "P(30's):  0.16619\n"
     ]
    }
   ],
   "source": [
    "PF = float(totals[30]) / 100000.0\n",
    "print \"P(30's): \", PF"
   ]
  },
  {
   "cell_type": "markdown",
   "metadata": {},
   "source": [
    "そして、P(E)は年齢に関係ない、全体の購入確率です。"
   ]
  },
  {
   "cell_type": "code",
   "execution_count": 7,
   "metadata": {
    "collapsed": false
   },
   "outputs": [
    {
     "name": "stdout",
     "output_type": "stream",
     "text": [
      "P(Purchase): 0.45012\n"
     ]
    }
   ],
   "source": [
    "PE = float(totalPurchases) / 100000.0\n",
    "print \"P(Purchase):\", PE"
   ]
  },
  {
   "cell_type": "markdown",
   "metadata": {},
   "source": [
    "もし、EとFが無関係であるならば、P(E|F)とP(E)はほぼ同じになるはずです。しかしながら、P(E)は0.45、P(E|F)は0.3で大きく異なる値です。従って、EとFには依存関係があります。\n",
    "\n",
    "それでは、P(E)とP(F)の積はいくつになるでしょうか?"
   ]
  },
  {
   "cell_type": "code",
   "execution_count": 8,
   "metadata": {
    "collapsed": false
   },
   "outputs": [
    {
     "name": "stdout",
     "output_type": "stream",
     "text": [
      "P(30's)P(Purchase) 0.0748054428\n"
     ]
    }
   ],
   "source": [
    "print \"P(30's)P(Purchase)\", PE * PF"
   ]
  },
  {
   "cell_type": "markdown",
   "metadata": {},
   "source": [
    "P(E,F)はP(E|F)とは異なります。 P(E,F)は30代であり、購入したという両者を満たす確率です。総人口における確率であって、30代の中での確率ではありません。 "
   ]
  },
  {
   "cell_type": "code",
   "execution_count": 9,
   "metadata": {
    "collapsed": false
   },
   "outputs": [
    {
     "name": "stdout",
     "output_type": "stream",
     "text": [
      "P(30's, Purchase) 0.04974\n"
     ]
    }
   ],
   "source": [
    "print \"P(30's, Purchase)\", float(purchases[30]) / 100000.0"
   ]
  },
  {
   "cell_type": "markdown",
   "metadata": {},
   "source": [
    "P(E,F)と P(E)P(F)は近いですね。しかしながら、EとFが依存関係にあり、データのランダム性もあるので同じ値にはなりません。\n",
    "\n",
    "それでは、P(E|F) = P(E,F)/P(F)の関係を確かめてみましょう。"
   ]
  },
  {
   "cell_type": "code",
   "execution_count": 10,
   "metadata": {
    "collapsed": false
   },
   "outputs": [
    {
     "data": {
      "text/plain": [
       "0.29929598652145134"
      ]
     },
     "execution_count": 10,
     "metadata": {},
     "output_type": "execute_result"
    }
   ],
   "source": [
    "(float(purchases[30]) / 100000.0) / PF"
   ]
  },
  {
   "cell_type": "markdown",
   "metadata": {},
   "source": [
    "## 演習"
   ]
  },
  {
   "cell_type": "markdown",
   "metadata": {},
   "source": [
    "上記のコードを修正し、購入確率が年齢範囲によらないようにしてみましょう。この場合、EとFに依存関係がなくなります。\n",
    "\n",
    "そして、P(E|F)がP(E)とほぼ同じであることを確かめましょう。ある年齢範囲における購入の条件付き確率は、全年齢範囲における購入確率と変わらないことを示しましょう。"
   ]
  },
  {
   "cell_type": "code",
   "execution_count": null,
   "metadata": {
    "collapsed": false
   },
   "outputs": [],
   "source": []
  }
 ],
 "metadata": {
  "kernelspec": {
   "display_name": "Python 2",
   "language": "python",
   "name": "python2"
  },
  "language_info": {
   "codemirror_mode": {
    "name": "ipython",
    "version": 2
   },
   "file_extension": ".py",
   "mimetype": "text/x-python",
   "name": "python",
   "nbconvert_exporter": "python",
   "pygments_lexer": "ipython2",
   "version": "2.7.11"
  }
 },
 "nbformat": 4,
 "nbformat_minor": 0
}
